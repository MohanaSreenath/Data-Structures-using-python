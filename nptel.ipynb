{
 "cells": [
  {
   "cell_type": "code",
   "execution_count": 8,
   "metadata": {},
   "outputs": [
    {
     "name": "stdout",
     "output_type": "stream",
     "text": [
      "<class 'pandas.core.frame.DataFrame'>\n",
      "RangeIndex: 11559 entries, 0 to 11558\n",
      "Data columns (total 11 columns):\n",
      " #   Column            Non-Null Count  Dtype  \n",
      "---  ------            --------------  -----  \n",
      " 0   Customer_ID       11559 non-null  int64  \n",
      " 1   Store Number      11559 non-null  int64  \n",
      " 2   Customer Segment  11559 non-null  object \n",
      " 3   First Name        11559 non-null  object \n",
      " 4   Last Name         11559 non-null  object \n",
      " 5   Address           11559 non-null  object \n",
      " 6   City              11559 non-null  object \n",
      " 7   State             11559 non-null  object \n",
      " 8   Zip               11559 non-null  int64  \n",
      " 9   Visits            11559 non-null  int64  \n",
      " 10  Spend             11559 non-null  float64\n",
      "dtypes: float64(1), int64(4), object(6)\n",
      "memory usage: 993.5+ KB\n",
      "None\n"
     ]
    }
   ],
   "source": [
    "import pandas as pd\n",
    "import numpy as np\n",
    "df=pd.read_csv(\"data1.csv\")\n",
    "print(df.info())\n"
   ]
  },
  {
   "cell_type": "code",
   "execution_count": 10,
   "metadata": {},
   "outputs": [
    {
     "name": "stdout",
     "output_type": "stream",
     "text": [
      "   Customer_ID  Store Number Customer Segment First Name Last Name  \\\n",
      "0            1           100      Home Office     PAMELA    WRIGHT   \n",
      "1            2           100         Consumer    MELISSA      RUFF   \n",
      "2            3           104   Small Business  CONSTANTI   VLASSIS   \n",
      "3            4           104      Home Office        AMY  LOCKEMER   \n",
      "4            5           101      Home Office     DANELL    VALDEZ   \n",
      "\n",
      "               Address    City State    Zip  Visits    Spend  \n",
      "0       2316 E 5TH AVE  DENVER    CO  80206       1   206.95  \n",
      "1  2753 S MILWAUKEE ST  DENVER    CO  80210       1   228.27  \n",
      "2  16911 E HARVARD AVE  AURORA    CO  80013       1   432.44  \n",
      "3     3721 S PITKIN CT  AURORA    CO  80013       4  2101.11  \n",
      "4   2925 W COLLEGE AVE  DENVER    CO  80219       1  1404.09  \n"
     ]
    }
   ],
   "source": [
    "print(df.head())"
   ]
  },
  {
   "cell_type": "code",
   "execution_count": 11,
   "metadata": {},
   "outputs": [
    {
     "name": "stdout",
     "output_type": "stream",
     "text": [
      "       Customer_ID  Store Number Customer Segment First Name Last Name  \\\n",
      "11554        11555           104        Corporate    TIFFANY   GERDINE   \n",
      "11555        11556           104        Corporate    KATHRYN  AMUNDSON   \n",
      "11556        11557           101      Home Office      CAROL  LAROCQUE   \n",
      "11557        11558           100      Home Office   MADELINE   SCHLENZ   \n",
      "11558        11559           104        Corporate  GERALDINE    EMRICK   \n",
      "\n",
      "                   Address       City State    Zip  Visits    Spend  \n",
      "11554     1380 S IDALIA ST     AURORA    CO  80017       7  7324.13  \n",
      "11555  9791 JEFFERSON PKWY  ENGLEWOOD    CO  80112       3  1556.72  \n",
      "11556   9457 W HAMILTON DR     DENVER    CO  80227       7  7202.08  \n",
      "11557      5533 BEDFORD CT     DENVER    CO  80239      12  5620.84  \n",
      "11558     2736 S VICTOR ST     AURORA    CO  80014      12  8049.95  \n"
     ]
    }
   ],
   "source": [
    "print(df.tail())"
   ]
  },
  {
   "cell_type": "code",
   "execution_count": 12,
   "metadata": {},
   "outputs": [
    {
     "name": "stdout",
     "output_type": "stream",
     "text": [
      "Index(['Customer_ID', 'Store Number', 'Customer Segment', 'First Name',\n",
      "       'Last Name', 'Address', 'City', 'State', 'Zip', 'Visits', 'Spend'],\n",
      "      dtype='object')\n"
     ]
    }
   ],
   "source": [
    "print(df.columns)"
   ]
  },
  {
   "cell_type": "code",
   "execution_count": 13,
   "metadata": {},
   "outputs": [
    {
     "name": "stdout",
     "output_type": "stream",
     "text": [
      "0        CO\n",
      "1        CO\n",
      "2        CO\n",
      "3        CO\n",
      "4        CO\n",
      "         ..\n",
      "11554    CO\n",
      "11555    CO\n",
      "11556    CO\n",
      "11557    CO\n",
      "11558    CO\n",
      "Name: State, Length: 11559, dtype: object\n"
     ]
    }
   ],
   "source": [
    "state_df=df['State']\n",
    "print(state_df)"
   ]
  },
  {
   "cell_type": "code",
   "execution_count": 14,
   "metadata": {},
   "outputs": [
    {
     "name": "stdout",
     "output_type": "stream",
     "text": [
      "            City State    Zip\n",
      "0         DENVER    CO  80206\n",
      "1         DENVER    CO  80210\n",
      "2         AURORA    CO  80013\n",
      "3         AURORA    CO  80013\n",
      "4         DENVER    CO  80219\n",
      "...          ...   ...    ...\n",
      "11554     AURORA    CO  80017\n",
      "11555  ENGLEWOOD    CO  80112\n",
      "11556     DENVER    CO  80227\n",
      "11557     DENVER    CO  80239\n",
      "11558     AURORA    CO  80014\n",
      "\n",
      "[11559 rows x 3 columns]\n"
     ]
    }
   ],
   "source": [
    "subset=df[['City','State','Zip']]\n",
    "print(subset)"
   ]
  },
  {
   "cell_type": "code",
   "execution_count": 15,
   "metadata": {},
   "outputs": [
    {
     "name": "stdout",
     "output_type": "stream",
     "text": [
      "(11559, 11)\n"
     ]
    }
   ],
   "source": [
    "print(df.shape)"
   ]
  },
  {
   "cell_type": "code",
   "execution_count": 1,
   "metadata": {},
   "outputs": [
    {
     "name": "stdout",
     "output_type": "stream",
     "text": [
      "Using iloc:\n",
      "two      2\n",
      "three    3\n",
      "Name: A, dtype: int64\n",
      "\n",
      "Using loc:\n",
      "two      2\n",
      "three    3\n",
      "four     4\n",
      "Name: A, dtype: int64\n"
     ]
    }
   ],
   "source": [
    "import pandas as pd\n",
    "\n",
    "# Create a sample DataFrame\n",
    "df = pd.DataFrame({'A': [1, 2, 3, 4, 5],\n",
    "                   'B': ['a', 'b', 'c', 'd', 'e']},\n",
    "                  index=['one', 'two', 'three', 'four', 'five'])\n",
    "\n",
    "# Using iloc to select data by numerical position\n",
    "iloc_result = df.iloc[1:3, 0]  # Selects rows 2 to 3 and column 1\n",
    "print(\"Using iloc:\")\n",
    "print(iloc_result)\n",
    "\n",
    "# Using loc to select data by labels\n",
    "loc_result = df.loc['two':'four', 'A']  # Selects rows 'two' to 'four' and column 'A'\n",
    "print(\"\\nUsing loc:\")\n",
    "print(loc_result)\n"
   ]
  },
  {
   "cell_type": "code",
   "execution_count": null,
   "metadata": {},
   "outputs": [],
   "source": []
  }
 ],
 "metadata": {
  "kernelspec": {
   "display_name": "Python 3",
   "language": "python",
   "name": "python3"
  },
  "language_info": {
   "codemirror_mode": {
    "name": "ipython",
    "version": 3
   },
   "file_extension": ".py",
   "mimetype": "text/x-python",
   "name": "python",
   "nbconvert_exporter": "python",
   "pygments_lexer": "ipython3",
   "version": "3.10.11"
  }
 },
 "nbformat": 4,
 "nbformat_minor": 2
}
